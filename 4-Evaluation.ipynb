{
 "cells": [
  {
   "cell_type": "markdown",
   "id": "ddcf9bcf",
   "metadata": {},
   "source": [
    "### Evaluation"
   ]
  },
  {
   "cell_type": "markdown",
   "id": "1dbb43a5",
   "metadata": {},
   "source": [
    "Aim: make Kaggle submission and evalute model performance seperately"
   ]
  },
  {
   "cell_type": "code",
   "execution_count": 64,
   "id": "83c9e9a7",
   "metadata": {},
   "outputs": [],
   "source": [
    "import pandas as pd\n",
    "import numpy as np\n",
    "\n",
    "from sklearn.model_selection import KFold \n",
    "\n",
    "from sklearn.metrics import explained_variance_score, max_error, mean_absolute_error, r2_score\n",
    "\n",
    "import os\n",
    "\n",
    "import pickle\n",
    "\n",
    "import xgboost as xgb\n",
    "\n",
    "import matplotlib.pyplot as plt"
   ]
  },
  {
   "cell_type": "code",
   "execution_count": 2,
   "id": "7174f144",
   "metadata": {},
   "outputs": [],
   "source": [
    "path_to_data = os.getenv('Documents') + '/House Prices - Advanced Regression Techniques/Datasets/'"
   ]
  },
  {
   "cell_type": "code",
   "execution_count": 3,
   "id": "0b6a8ad2",
   "metadata": {},
   "outputs": [],
   "source": [
    "test_data = pd.read_csv(path_to_data + 'test.csv')"
   ]
  },
  {
   "cell_type": "code",
   "execution_count": 4,
   "id": "02f62291",
   "metadata": {},
   "outputs": [
    {
     "data": {
      "text/html": [
       "<div>\n",
       "<style scoped>\n",
       "    .dataframe tbody tr th:only-of-type {\n",
       "        vertical-align: middle;\n",
       "    }\n",
       "\n",
       "    .dataframe tbody tr th {\n",
       "        vertical-align: top;\n",
       "    }\n",
       "\n",
       "    .dataframe thead th {\n",
       "        text-align: right;\n",
       "    }\n",
       "</style>\n",
       "<table border=\"1\" class=\"dataframe\">\n",
       "  <thead>\n",
       "    <tr style=\"text-align: right;\">\n",
       "      <th></th>\n",
       "      <th>Id</th>\n",
       "      <th>MSSubClass</th>\n",
       "      <th>MSZoning</th>\n",
       "      <th>LotFrontage</th>\n",
       "      <th>LotArea</th>\n",
       "      <th>Street</th>\n",
       "      <th>Alley</th>\n",
       "      <th>LotShape</th>\n",
       "      <th>LandContour</th>\n",
       "      <th>Utilities</th>\n",
       "      <th>...</th>\n",
       "      <th>ScreenPorch</th>\n",
       "      <th>PoolArea</th>\n",
       "      <th>PoolQC</th>\n",
       "      <th>Fence</th>\n",
       "      <th>MiscFeature</th>\n",
       "      <th>MiscVal</th>\n",
       "      <th>MoSold</th>\n",
       "      <th>YrSold</th>\n",
       "      <th>SaleType</th>\n",
       "      <th>SaleCondition</th>\n",
       "    </tr>\n",
       "  </thead>\n",
       "  <tbody>\n",
       "    <tr>\n",
       "      <th>0</th>\n",
       "      <td>1461</td>\n",
       "      <td>20</td>\n",
       "      <td>RH</td>\n",
       "      <td>80.0</td>\n",
       "      <td>11622</td>\n",
       "      <td>Pave</td>\n",
       "      <td>NaN</td>\n",
       "      <td>Reg</td>\n",
       "      <td>Lvl</td>\n",
       "      <td>AllPub</td>\n",
       "      <td>...</td>\n",
       "      <td>120</td>\n",
       "      <td>0</td>\n",
       "      <td>NaN</td>\n",
       "      <td>MnPrv</td>\n",
       "      <td>NaN</td>\n",
       "      <td>0</td>\n",
       "      <td>6</td>\n",
       "      <td>2010</td>\n",
       "      <td>WD</td>\n",
       "      <td>Normal</td>\n",
       "    </tr>\n",
       "    <tr>\n",
       "      <th>1</th>\n",
       "      <td>1462</td>\n",
       "      <td>20</td>\n",
       "      <td>RL</td>\n",
       "      <td>81.0</td>\n",
       "      <td>14267</td>\n",
       "      <td>Pave</td>\n",
       "      <td>NaN</td>\n",
       "      <td>IR1</td>\n",
       "      <td>Lvl</td>\n",
       "      <td>AllPub</td>\n",
       "      <td>...</td>\n",
       "      <td>0</td>\n",
       "      <td>0</td>\n",
       "      <td>NaN</td>\n",
       "      <td>NaN</td>\n",
       "      <td>Gar2</td>\n",
       "      <td>12500</td>\n",
       "      <td>6</td>\n",
       "      <td>2010</td>\n",
       "      <td>WD</td>\n",
       "      <td>Normal</td>\n",
       "    </tr>\n",
       "    <tr>\n",
       "      <th>2</th>\n",
       "      <td>1463</td>\n",
       "      <td>60</td>\n",
       "      <td>RL</td>\n",
       "      <td>74.0</td>\n",
       "      <td>13830</td>\n",
       "      <td>Pave</td>\n",
       "      <td>NaN</td>\n",
       "      <td>IR1</td>\n",
       "      <td>Lvl</td>\n",
       "      <td>AllPub</td>\n",
       "      <td>...</td>\n",
       "      <td>0</td>\n",
       "      <td>0</td>\n",
       "      <td>NaN</td>\n",
       "      <td>MnPrv</td>\n",
       "      <td>NaN</td>\n",
       "      <td>0</td>\n",
       "      <td>3</td>\n",
       "      <td>2010</td>\n",
       "      <td>WD</td>\n",
       "      <td>Normal</td>\n",
       "    </tr>\n",
       "    <tr>\n",
       "      <th>3</th>\n",
       "      <td>1464</td>\n",
       "      <td>60</td>\n",
       "      <td>RL</td>\n",
       "      <td>78.0</td>\n",
       "      <td>9978</td>\n",
       "      <td>Pave</td>\n",
       "      <td>NaN</td>\n",
       "      <td>IR1</td>\n",
       "      <td>Lvl</td>\n",
       "      <td>AllPub</td>\n",
       "      <td>...</td>\n",
       "      <td>0</td>\n",
       "      <td>0</td>\n",
       "      <td>NaN</td>\n",
       "      <td>NaN</td>\n",
       "      <td>NaN</td>\n",
       "      <td>0</td>\n",
       "      <td>6</td>\n",
       "      <td>2010</td>\n",
       "      <td>WD</td>\n",
       "      <td>Normal</td>\n",
       "    </tr>\n",
       "    <tr>\n",
       "      <th>4</th>\n",
       "      <td>1465</td>\n",
       "      <td>120</td>\n",
       "      <td>RL</td>\n",
       "      <td>43.0</td>\n",
       "      <td>5005</td>\n",
       "      <td>Pave</td>\n",
       "      <td>NaN</td>\n",
       "      <td>IR1</td>\n",
       "      <td>HLS</td>\n",
       "      <td>AllPub</td>\n",
       "      <td>...</td>\n",
       "      <td>144</td>\n",
       "      <td>0</td>\n",
       "      <td>NaN</td>\n",
       "      <td>NaN</td>\n",
       "      <td>NaN</td>\n",
       "      <td>0</td>\n",
       "      <td>1</td>\n",
       "      <td>2010</td>\n",
       "      <td>WD</td>\n",
       "      <td>Normal</td>\n",
       "    </tr>\n",
       "  </tbody>\n",
       "</table>\n",
       "<p>5 rows × 80 columns</p>\n",
       "</div>"
      ],
      "text/plain": [
       "     Id  MSSubClass MSZoning  LotFrontage  LotArea Street Alley LotShape  \\\n",
       "0  1461          20       RH         80.0    11622   Pave   NaN      Reg   \n",
       "1  1462          20       RL         81.0    14267   Pave   NaN      IR1   \n",
       "2  1463          60       RL         74.0    13830   Pave   NaN      IR1   \n",
       "3  1464          60       RL         78.0     9978   Pave   NaN      IR1   \n",
       "4  1465         120       RL         43.0     5005   Pave   NaN      IR1   \n",
       "\n",
       "  LandContour Utilities  ... ScreenPorch PoolArea PoolQC  Fence MiscFeature  \\\n",
       "0         Lvl    AllPub  ...         120        0    NaN  MnPrv         NaN   \n",
       "1         Lvl    AllPub  ...           0        0    NaN    NaN        Gar2   \n",
       "2         Lvl    AllPub  ...           0        0    NaN  MnPrv         NaN   \n",
       "3         Lvl    AllPub  ...           0        0    NaN    NaN         NaN   \n",
       "4         HLS    AllPub  ...         144        0    NaN    NaN         NaN   \n",
       "\n",
       "  MiscVal MoSold  YrSold  SaleType  SaleCondition  \n",
       "0       0      6    2010        WD         Normal  \n",
       "1   12500      6    2010        WD         Normal  \n",
       "2       0      3    2010        WD         Normal  \n",
       "3       0      6    2010        WD         Normal  \n",
       "4       0      1    2010        WD         Normal  \n",
       "\n",
       "[5 rows x 80 columns]"
      ]
     },
     "execution_count": 4,
     "metadata": {},
     "output_type": "execute_result"
    }
   ],
   "source": [
    "test_data.head()"
   ]
  },
  {
   "cell_type": "code",
   "execution_count": 5,
   "id": "ae211dad",
   "metadata": {},
   "outputs": [],
   "source": [
    "ids = test_data['Id']\n",
    "test_data = test_data.drop(columns=['Id'], axis=1)"
   ]
  },
  {
   "cell_type": "markdown",
   "id": "cd625ec7",
   "metadata": {},
   "source": [
    "### Preprocessing on test data"
   ]
  },
  {
   "cell_type": "code",
   "execution_count": 6,
   "id": "445e30a2",
   "metadata": {},
   "outputs": [],
   "source": [
    "test_data = test_data.drop(columns=['Fence', 'PoolQC', 'Alley', 'MiscFeature', 'BsmtHalfBath', 'KitchenAbvGr'], axis=1)"
   ]
  },
  {
   "cell_type": "code",
   "execution_count": 7,
   "id": "c672f914",
   "metadata": {},
   "outputs": [],
   "source": [
    "# Categorical Columns\n",
    "\n",
    "cat_cols = ['GarageQual',\n",
    "             'BsmtCond',\n",
    "             'Foundation',\n",
    "             'LandContour',\n",
    "             'Neighborhood',\n",
    "             'RoofMatl',\n",
    "             'GarageFinish',\n",
    "             'Functional',\n",
    "             'LandSlope',\n",
    "             'Exterior2nd',\n",
    "             'ExterQual',\n",
    "             'Exterior1st',\n",
    "             'MSZoning',\n",
    "             'PavedDrive',\n",
    "             'LotConfig',\n",
    "             'BsmtQual',\n",
    "             'BsmtFinType1',\n",
    "             'FireplaceQu',\n",
    "             'RoofStyle',\n",
    "             'Street',\n",
    "             'Utilities',\n",
    "             'BsmtExposure',\n",
    "             'LotShape',\n",
    "             'Condition2',\n",
    "             'HeatingQC',\n",
    "             'GarageCond',\n",
    "             'KitchenQual',\n",
    "             'HouseStyle',\n",
    "             'GarageType',\n",
    "             'Heating',\n",
    "             'MasVnrType',\n",
    "             'Electrical',\n",
    "             'Condition1',\n",
    "             'CentralAir',\n",
    "             'SaleType',\n",
    "             'SaleCondition',\n",
    "             'BldgType',\n",
    "             'ExterCond',\n",
    "             'BsmtFinType2']"
   ]
  },
  {
   "cell_type": "code",
   "execution_count": 8,
   "id": "dc73d050",
   "metadata": {},
   "outputs": [],
   "source": [
    "test_data = pd.get_dummies(data=test_data, columns=cat_cols)"
   ]
  },
  {
   "cell_type": "code",
   "execution_count": 9,
   "id": "2af4c274",
   "metadata": {},
   "outputs": [
    {
     "data": {
      "text/plain": [
       "(1459, 257)"
      ]
     },
     "execution_count": 9,
     "metadata": {},
     "output_type": "execute_result"
    }
   ],
   "source": [
    "test_data.shape"
   ]
  },
  {
   "cell_type": "code",
   "execution_count": 34,
   "id": "fa6d844d",
   "metadata": {},
   "outputs": [],
   "source": [
    "# For selected features\n",
    "\n",
    "train_data = pd.read_csv(path_to_data + 'train_clean_stp1.csv')\n",
    "sel_features = list(train_data.columns)\n",
    "sel_features.remove('SalePrice')"
   ]
  },
  {
   "cell_type": "code",
   "execution_count": 11,
   "id": "97383dfe",
   "metadata": {},
   "outputs": [
    {
     "data": {
      "text/plain": [
       "94"
      ]
     },
     "execution_count": 11,
     "metadata": {},
     "output_type": "execute_result"
    }
   ],
   "source": [
    "len(sel_features)"
   ]
  },
  {
   "cell_type": "code",
   "execution_count": 12,
   "id": "9c279339",
   "metadata": {},
   "outputs": [],
   "source": [
    "drop_cols = list(set(test_data.columns) - set(sel_features))"
   ]
  },
  {
   "cell_type": "code",
   "execution_count": 13,
   "id": "e7468dfc",
   "metadata": {},
   "outputs": [],
   "source": [
    "test_data = test_data.drop(columns=drop_cols, axis=1)"
   ]
  },
  {
   "cell_type": "code",
   "execution_count": 14,
   "id": "5cc8fd20",
   "metadata": {},
   "outputs": [
    {
     "data": {
      "text/plain": [
       "(1459, 93)"
      ]
     },
     "execution_count": 14,
     "metadata": {},
     "output_type": "execute_result"
    }
   ],
   "source": [
    "test_data.shape"
   ]
  },
  {
   "cell_type": "code",
   "execution_count": 15,
   "id": "0573692f",
   "metadata": {},
   "outputs": [
    {
     "data": {
      "text/plain": [
       "(1459, 95)"
      ]
     },
     "execution_count": 15,
     "metadata": {},
     "output_type": "execute_result"
    }
   ],
   "source": [
    "train_data.shape"
   ]
  },
  {
   "cell_type": "code",
   "execution_count": 16,
   "id": "d7ab3475",
   "metadata": {},
   "outputs": [
    {
     "data": {
      "text/plain": [
       "Index(['LotFrontage', 'LotArea', 'OverallQual', 'OverallCond', 'YearBuilt',\n",
       "       'YearRemodAdd', 'MasVnrArea', 'BsmtFinSF1', 'BsmtUnfSF', 'TotalBsmtSF',\n",
       "       '1stFlrSF', '2ndFlrSF', 'LowQualFinSF', 'GrLivArea', 'BsmtFullBath',\n",
       "       'FullBath', 'HalfBath', 'TotRmsAbvGrd', 'Fireplaces', 'GarageYrBlt',\n",
       "       'GarageCars', 'GarageArea', 'WoodDeckSF', 'OpenPorchSF',\n",
       "       'EnclosedPorch', 'ScreenPorch', 'PoolArea', 'MoSold', 'YrSold',\n",
       "       'GarageQual_Fa', 'GarageQual_TA', 'BsmtCond_Fa', 'BsmtCond_TA',\n",
       "       'Foundation_CBlock', 'LandContour_Bnk', 'LandContour_HLS',\n",
       "       'Neighborhood_BrkSide', 'Neighborhood_ClearCr', 'Neighborhood_CollgCr',\n",
       "       'Neighborhood_Crawfor', 'Neighborhood_Edwards', 'Neighborhood_NAmes',\n",
       "       'Neighborhood_OldTown', 'Neighborhood_Somerst', 'Neighborhood_StoneBr',\n",
       "       'Neighborhood_Timber', 'RoofMatl_CompShg', 'GarageFinish_Unf',\n",
       "       'Functional_Maj2', 'Functional_Typ', 'LandSlope_Gtl',\n",
       "       'Exterior2nd_Brk Cmn', 'Exterior2nd_HdBoard', 'Exterior2nd_Wd Sdng',\n",
       "       'Exterior1st_BrkFace', 'Exterior1st_HdBoard', 'MSZoning_C (all)',\n",
       "       'MSZoning_FV', 'MSZoning_RL', 'MSZoning_RM', 'PavedDrive_N',\n",
       "       'LotConfig_CulDSac', 'LotConfig_FR2', 'BsmtQual_Ex', 'BsmtQual_Gd',\n",
       "       'BsmtFinType1_ALQ', 'BsmtFinType1_GLQ', 'BsmtFinType1_Rec',\n",
       "       'BsmtExposure_Gd', 'BsmtExposure_No', 'LotShape_Reg',\n",
       "       'Condition2_Feedr', 'KitchenQual_Ex', 'KitchenQual_Gd',\n",
       "       'KitchenQual_TA', 'HouseStyle_1.5Fin', 'HouseStyle_SLvl',\n",
       "       'GarageType_Attchd', 'GarageType_BuiltIn', 'GarageType_CarPort',\n",
       "       'Heating_OthW', 'MasVnrType_None', 'MasVnrType_Stone',\n",
       "       'Condition1_Artery', 'Condition1_Norm', 'Condition1_RRAe',\n",
       "       'CentralAir_N', 'SaleType_New', 'SaleType_WD', 'SaleCondition_Abnorml',\n",
       "       'SaleCondition_Family', 'ExterCond_Fa', 'ExterCond_Gd', 'ExterCond_TA',\n",
       "       'SalePrice'],\n",
       "      dtype='object')"
      ]
     },
     "execution_count": 16,
     "metadata": {},
     "output_type": "execute_result"
    }
   ],
   "source": [
    "train_data.columns"
   ]
  },
  {
   "cell_type": "code",
   "execution_count": 17,
   "id": "3b098820",
   "metadata": {},
   "outputs": [
    {
     "data": {
      "text/plain": [
       "Index(['LotFrontage', 'LotArea', 'OverallQual', 'OverallCond', 'YearBuilt',\n",
       "       'YearRemodAdd', 'MasVnrArea', 'BsmtFinSF1', 'BsmtUnfSF', 'TotalBsmtSF',\n",
       "       '1stFlrSF', '2ndFlrSF', 'LowQualFinSF', 'GrLivArea', 'BsmtFullBath',\n",
       "       'FullBath', 'HalfBath', 'TotRmsAbvGrd', 'Fireplaces', 'GarageYrBlt',\n",
       "       'GarageCars', 'GarageArea', 'WoodDeckSF', 'OpenPorchSF',\n",
       "       'EnclosedPorch', 'ScreenPorch', 'PoolArea', 'MoSold', 'YrSold',\n",
       "       'GarageQual_Fa', 'GarageQual_TA', 'BsmtCond_Fa', 'BsmtCond_TA',\n",
       "       'Foundation_CBlock', 'LandContour_Bnk', 'LandContour_HLS',\n",
       "       'Neighborhood_BrkSide', 'Neighborhood_ClearCr', 'Neighborhood_CollgCr',\n",
       "       'Neighborhood_Crawfor', 'Neighborhood_Edwards', 'Neighborhood_NAmes',\n",
       "       'Neighborhood_OldTown', 'Neighborhood_Somerst', 'Neighborhood_StoneBr',\n",
       "       'Neighborhood_Timber', 'RoofMatl_CompShg', 'GarageFinish_Unf',\n",
       "       'Functional_Maj2', 'Functional_Typ', 'LandSlope_Gtl',\n",
       "       'Exterior2nd_Brk Cmn', 'Exterior2nd_HdBoard', 'Exterior2nd_Wd Sdng',\n",
       "       'Exterior1st_BrkFace', 'Exterior1st_HdBoard', 'MSZoning_C (all)',\n",
       "       'MSZoning_FV', 'MSZoning_RL', 'MSZoning_RM', 'PavedDrive_N',\n",
       "       'LotConfig_CulDSac', 'LotConfig_FR2', 'BsmtQual_Ex', 'BsmtQual_Gd',\n",
       "       'BsmtFinType1_ALQ', 'BsmtFinType1_GLQ', 'BsmtFinType1_Rec',\n",
       "       'BsmtExposure_Gd', 'BsmtExposure_No', 'LotShape_Reg',\n",
       "       'Condition2_Feedr', 'KitchenQual_Ex', 'KitchenQual_Gd',\n",
       "       'KitchenQual_TA', 'HouseStyle_1.5Fin', 'HouseStyle_SLvl',\n",
       "       'GarageType_Attchd', 'GarageType_BuiltIn', 'GarageType_CarPort',\n",
       "       'MasVnrType_None', 'MasVnrType_Stone', 'Condition1_Artery',\n",
       "       'Condition1_Norm', 'Condition1_RRAe', 'CentralAir_N', 'SaleType_New',\n",
       "       'SaleType_WD', 'SaleCondition_Abnorml', 'SaleCondition_Family',\n",
       "       'ExterCond_Fa', 'ExterCond_Gd', 'ExterCond_TA'],\n",
       "      dtype='object')"
      ]
     },
     "execution_count": 17,
     "metadata": {},
     "output_type": "execute_result"
    }
   ],
   "source": [
    "test_data.columns"
   ]
  },
  {
   "cell_type": "code",
   "execution_count": 18,
   "id": "66ac6168",
   "metadata": {},
   "outputs": [],
   "source": [
    "dif = set(list(train_data.columns)) - set(list(test_data.columns))"
   ]
  },
  {
   "cell_type": "code",
   "execution_count": 19,
   "id": "b0d0f271",
   "metadata": {},
   "outputs": [
    {
     "data": {
      "text/plain": [
       "{'Heating_OthW', 'SalePrice'}"
      ]
     },
     "execution_count": 19,
     "metadata": {},
     "output_type": "execute_result"
    }
   ],
   "source": [
    "dif"
   ]
  },
  {
   "cell_type": "code",
   "execution_count": 20,
   "id": "2cae361e",
   "metadata": {},
   "outputs": [
    {
     "data": {
      "text/plain": [
       "0    1457\n",
       "1       2\n",
       "Name: Heating_OthW, dtype: int64"
      ]
     },
     "execution_count": 20,
     "metadata": {},
     "output_type": "execute_result"
    }
   ],
   "source": [
    "train_data['Heating_OthW'].value_counts()"
   ]
  },
  {
   "cell_type": "code",
   "execution_count": 21,
   "id": "8ec51eed",
   "metadata": {},
   "outputs": [],
   "source": [
    "test_data['Heating_OthW'] = 0"
   ]
  },
  {
   "cell_type": "code",
   "execution_count": 22,
   "id": "c9f0c3b4",
   "metadata": {},
   "outputs": [
    {
     "data": {
      "text/plain": [
       "0    1459\n",
       "Name: Heating_OthW, dtype: int64"
      ]
     },
     "execution_count": 22,
     "metadata": {},
     "output_type": "execute_result"
    }
   ],
   "source": [
    "test_data['Heating_OthW'].value_counts()"
   ]
  },
  {
   "cell_type": "markdown",
   "id": "d43979c4",
   "metadata": {},
   "source": [
    "### Importing final model"
   ]
  },
  {
   "cell_type": "code",
   "execution_count": 62,
   "id": "916ed915",
   "metadata": {},
   "outputs": [
    {
     "ename": "EOFError",
     "evalue": "Ran out of input",
     "output_type": "error",
     "traceback": [
      "\u001b[1;31m---------------------------------------------------------------------------\u001b[0m",
      "\u001b[1;31mEOFError\u001b[0m                                  Traceback (most recent call last)",
      "\u001b[1;32m~\\AppData\\Local\\Temp/ipykernel_16520/2867571983.py\u001b[0m in \u001b[0;36m<module>\u001b[1;34m\u001b[0m\n\u001b[0;32m      1\u001b[0m \u001b[1;32mwith\u001b[0m \u001b[0mopen\u001b[0m\u001b[1;33m(\u001b[0m\u001b[0mos\u001b[0m\u001b[1;33m.\u001b[0m\u001b[0mgetenv\u001b[0m\u001b[1;33m(\u001b[0m\u001b[1;34m'Documents'\u001b[0m\u001b[1;33m)\u001b[0m \u001b[1;33m+\u001b[0m \u001b[1;34m'/House Prices - Advanced Regression Techniques/'\u001b[0m \u001b[1;33m+\u001b[0m \u001b[1;34m'model_stp1.pkl'\u001b[0m\u001b[1;33m,\u001b[0m \u001b[1;34m'rb'\u001b[0m\u001b[1;33m)\u001b[0m \u001b[1;32mas\u001b[0m \u001b[0mfile\u001b[0m\u001b[1;33m:\u001b[0m\u001b[1;33m\u001b[0m\u001b[1;33m\u001b[0m\u001b[0m\n\u001b[1;32m----> 2\u001b[1;33m     \u001b[0mmodel\u001b[0m \u001b[1;33m=\u001b[0m \u001b[0mpickle\u001b[0m\u001b[1;33m.\u001b[0m\u001b[0mload\u001b[0m\u001b[1;33m(\u001b[0m\u001b[0mfile\u001b[0m\u001b[1;33m)\u001b[0m\u001b[1;33m\u001b[0m\u001b[1;33m\u001b[0m\u001b[0m\n\u001b[0m",
      "\u001b[1;31mEOFError\u001b[0m: Ran out of input"
     ]
    }
   ],
   "source": [
    "# Didn't close the file? TO DO .... rerun hyperparameter tuning with the file closed\n",
    "\n",
    "with open(os.getenv('Documents') + '/House Prices - Advanced Regression Techniques/' + 'model_stp1.pkl', 'rb') as file:\n",
    "    model = pickle.load(file)"
   ]
  },
  {
   "cell_type": "code",
   "execution_count": 63,
   "id": "2c738e65",
   "metadata": {},
   "outputs": [
    {
     "name": "stdout",
     "output_type": "stream",
     "text": [
      "114455\n"
     ]
    }
   ],
   "source": [
    "print(os.path.getsize(os.getenv('Documents') + '/House Prices - Advanced Regression Techniques/' + 'model_stp1.pkl'))"
   ]
  },
  {
   "cell_type": "markdown",
   "id": "881ef144",
   "metadata": {},
   "source": [
    "### Model Training "
   ]
  },
  {
   "cell_type": "code",
   "execution_count": 35,
   "id": "e25f6dfb",
   "metadata": {},
   "outputs": [],
   "source": [
    "y_train = train_data['SalePrice']\n",
    "X_train = train_data.drop(columns=['SalePrice'], axis=1)"
   ]
  },
  {
   "cell_type": "code",
   "execution_count": 24,
   "id": "7aa4f39f",
   "metadata": {},
   "outputs": [],
   "source": [
    "# Will use quick fix for the moment\n",
    "\n",
    "parameters = {'objective': 'reg:squarederror',\n",
    "             'base_score': 0.5,\n",
    "             'booster': 'gbtree',\n",
    "             'colsample_bylevel': 1,\n",
    "             'colsample_bynode': 1,\n",
    "             'colsample_bytree': 1,\n",
    "             'enable_categorical': False,\n",
    "             'gamma': 0,\n",
    "             'gpu_id': -1,\n",
    "             'importance_type': None,\n",
    "             'interaction_constraints': '',\n",
    "             'learning_rate': 0.300000012,\n",
    "             'max_delta_step': 0,\n",
    "             'max_depth': 3,\n",
    "             'min_child_weight': 3,\n",
    "             'monotone_constraints': '()',\n",
    "             'n_estimators': 100,\n",
    "             'n_jobs': 8,\n",
    "             'num_parallel_tree': 1,\n",
    "             'predictor': 'auto',\n",
    "             'random_state': 0,\n",
    "             'reg_alpha': 3,\n",
    "             'reg_lambda': 2,\n",
    "             'scale_pos_weight': 1,\n",
    "             'subsample': 1,\n",
    "             'tree_method': 'hist',\n",
    "             'validate_parameters': 1,\n",
    "             'verbosity': None,\n",
    "             'learning_rage': 0.3}"
   ]
  },
  {
   "cell_type": "code",
   "execution_count": 25,
   "id": "c61013d3",
   "metadata": {},
   "outputs": [],
   "source": [
    "model = xgb.XGBRegressor()"
   ]
  },
  {
   "cell_type": "code",
   "execution_count": 26,
   "id": "d5cf2a3c",
   "metadata": {},
   "outputs": [
    {
     "data": {
      "text/plain": [
       "XGBRegressor(base_score=0.5, booster='gbtree', colsample_bylevel=1,\n",
       "             colsample_bynode=1, colsample_bytree=1, enable_categorical=False,\n",
       "             gamma=0, gpu_id=-1, importance_type=None,\n",
       "             interaction_constraints='', learning_rage=0.3,\n",
       "             learning_rate=0.300000012, max_delta_step=0, max_depth=3,\n",
       "             min_child_weight=3, missing=nan, monotone_constraints='()',\n",
       "             n_estimators=100, n_jobs=8, num_parallel_tree=1, predictor='auto',\n",
       "             random_state=0, reg_alpha=3, reg_lambda=2, scale_pos_weight=1,\n",
       "             subsample=1, tree_method='hist', validate_parameters=1,\n",
       "             verbosity=None)"
      ]
     },
     "execution_count": 26,
     "metadata": {},
     "output_type": "execute_result"
    }
   ],
   "source": [
    "model.set_params(**parameters)"
   ]
  },
  {
   "cell_type": "code",
   "execution_count": 27,
   "id": "6017d945",
   "metadata": {},
   "outputs": [
    {
     "name": "stdout",
     "output_type": "stream",
     "text": [
      "[09:54:39] WARNING: ..\\src\\learner.cc:576: \n",
      "Parameters: { \"learning_rage\" } might not be used.\n",
      "\n",
      "  This could be a false alarm, with some parameters getting used by language bindings but\n",
      "  then being mistakenly passed down to XGBoost core, or some parameter actually being used\n",
      "  but getting flagged wrongly here. Please open an issue if you find any such cases.\n",
      "\n",
      "\n"
     ]
    },
    {
     "data": {
      "text/plain": [
       "XGBRegressor(base_score=0.5, booster='gbtree', colsample_bylevel=1,\n",
       "             colsample_bynode=1, colsample_bytree=1, enable_categorical=False,\n",
       "             gamma=0, gpu_id=-1, importance_type=None,\n",
       "             interaction_constraints='', learning_rage=0.3,\n",
       "             learning_rate=0.300000012, max_delta_step=0, max_depth=3,\n",
       "             min_child_weight=3, missing=nan, monotone_constraints='()',\n",
       "             n_estimators=100, n_jobs=8, num_parallel_tree=1, predictor='auto',\n",
       "             random_state=0, reg_alpha=3, reg_lambda=2, scale_pos_weight=1,\n",
       "             subsample=1, tree_method='hist', validate_parameters=1,\n",
       "             verbosity=None)"
      ]
     },
     "execution_count": 27,
     "metadata": {},
     "output_type": "execute_result"
    }
   ],
   "source": [
    "model.fit(X_train, y_train)"
   ]
  },
  {
   "cell_type": "markdown",
   "id": "c882e1f0",
   "metadata": {},
   "source": [
    "### Kaggle Submission"
   ]
  },
  {
   "cell_type": "code",
   "execution_count": 28,
   "id": "ce722d69",
   "metadata": {},
   "outputs": [],
   "source": [
    "prediction = model.predict(test_data)"
   ]
  },
  {
   "cell_type": "code",
   "execution_count": 29,
   "id": "bc7b81c0",
   "metadata": {},
   "outputs": [],
   "source": [
    "prediction_df = pd.DataFrame(columns=['Id', 'SalePrice'])\n",
    "prediction_df['Id'] = ids\n",
    "prediction_df['SalePrice'] = prediction"
   ]
  },
  {
   "cell_type": "code",
   "execution_count": 30,
   "id": "95d4bac4",
   "metadata": {},
   "outputs": [
    {
     "data": {
      "text/html": [
       "<div>\n",
       "<style scoped>\n",
       "    .dataframe tbody tr th:only-of-type {\n",
       "        vertical-align: middle;\n",
       "    }\n",
       "\n",
       "    .dataframe tbody tr th {\n",
       "        vertical-align: top;\n",
       "    }\n",
       "\n",
       "    .dataframe thead th {\n",
       "        text-align: right;\n",
       "    }\n",
       "</style>\n",
       "<table border=\"1\" class=\"dataframe\">\n",
       "  <thead>\n",
       "    <tr style=\"text-align: right;\">\n",
       "      <th></th>\n",
       "      <th>Id</th>\n",
       "      <th>SalePrice</th>\n",
       "    </tr>\n",
       "  </thead>\n",
       "  <tbody>\n",
       "    <tr>\n",
       "      <th>0</th>\n",
       "      <td>1461</td>\n",
       "      <td>122130.242188</td>\n",
       "    </tr>\n",
       "    <tr>\n",
       "      <th>1</th>\n",
       "      <td>1462</td>\n",
       "      <td>156187.562500</td>\n",
       "    </tr>\n",
       "    <tr>\n",
       "      <th>2</th>\n",
       "      <td>1463</td>\n",
       "      <td>181485.515625</td>\n",
       "    </tr>\n",
       "    <tr>\n",
       "      <th>3</th>\n",
       "      <td>1464</td>\n",
       "      <td>200744.890625</td>\n",
       "    </tr>\n",
       "    <tr>\n",
       "      <th>4</th>\n",
       "      <td>1465</td>\n",
       "      <td>206020.093750</td>\n",
       "    </tr>\n",
       "  </tbody>\n",
       "</table>\n",
       "</div>"
      ],
      "text/plain": [
       "     Id      SalePrice\n",
       "0  1461  122130.242188\n",
       "1  1462  156187.562500\n",
       "2  1463  181485.515625\n",
       "3  1464  200744.890625\n",
       "4  1465  206020.093750"
      ]
     },
     "execution_count": 30,
     "metadata": {},
     "output_type": "execute_result"
    }
   ],
   "source": [
    "prediction_df.head()"
   ]
  },
  {
   "cell_type": "code",
   "execution_count": 93,
   "id": "3e377e6b",
   "metadata": {},
   "outputs": [],
   "source": [
    "prediction_df.to_csv(os.getenv('Documents') + '/House Prices - Advanced Regression Techniques/submission_1.csv', index=False)"
   ]
  },
  {
   "cell_type": "markdown",
   "id": "c80b6a6b",
   "metadata": {},
   "source": [
    "### Model Evaluation"
   ]
  },
  {
   "cell_type": "code",
   "execution_count": 67,
   "id": "249e11ff",
   "metadata": {},
   "outputs": [
    {
     "name": "stdout",
     "output_type": "stream",
     "text": [
      "[12:53:58] WARNING: ..\\src\\learner.cc:576: \n",
      "Parameters: { \"learning_rage\" } might not be used.\n",
      "\n",
      "  This could be a false alarm, with some parameters getting used by language bindings but\n",
      "  then being mistakenly passed down to XGBoost core, or some parameter actually being used\n",
      "  but getting flagged wrongly here. Please open an issue if you find any such cases.\n",
      "\n",
      "\n",
      "[12:53:58] WARNING: ..\\src\\learner.cc:576: \n",
      "Parameters: { \"learning_rage\" } might not be used.\n",
      "\n",
      "  This could be a false alarm, with some parameters getting used by language bindings but\n",
      "  then being mistakenly passed down to XGBoost core, or some parameter actually being used\n",
      "  but getting flagged wrongly here. Please open an issue if you find any such cases.\n",
      "\n",
      "\n",
      "[12:53:58] WARNING: ..\\src\\learner.cc:576: \n",
      "Parameters: { \"learning_rage\" } might not be used.\n",
      "\n",
      "  This could be a false alarm, with some parameters getting used by language bindings but\n",
      "  then being mistakenly passed down to XGBoost core, or some parameter actually being used\n",
      "  but getting flagged wrongly here. Please open an issue if you find any such cases.\n",
      "\n",
      "\n",
      "[12:53:58] WARNING: ..\\src\\learner.cc:576: \n",
      "Parameters: { \"learning_rage\" } might not be used.\n",
      "\n",
      "  This could be a false alarm, with some parameters getting used by language bindings but\n",
      "  then being mistakenly passed down to XGBoost core, or some parameter actually being used\n",
      "  but getting flagged wrongly here. Please open an issue if you find any such cases.\n",
      "\n",
      "\n",
      "[12:53:58] WARNING: ..\\src\\learner.cc:576: \n",
      "Parameters: { \"learning_rage\" } might not be used.\n",
      "\n",
      "  This could be a false alarm, with some parameters getting used by language bindings but\n",
      "  then being mistakenly passed down to XGBoost core, or some parameter actually being used\n",
      "  but getting flagged wrongly here. Please open an issue if you find any such cases.\n",
      "\n",
      "\n"
     ]
    }
   ],
   "source": [
    "n_splits =5\n",
    "\n",
    "fivefold = KFold(n_splits=n_splits)\n",
    "explained_variance_score, max_error, mean_absolute_error, r2_score\n",
    "results_dict = {}\n",
    "\n",
    "split = 1\n",
    "for train_index, test_index in fivefold.split(X_train):\n",
    "    \n",
    "    X_tr, X_te = X_train.iloc[train_index], X_train.iloc[test_index]\n",
    "    y_tr, y_te = y_train.iloc[train_index], y_train.iloc[test_index]\n",
    "    \n",
    "    model = xgb.XGBRegressor()\n",
    "    \n",
    "    model.set_params(**parameters)\n",
    "    \n",
    "    model.fit(X_tr, y_tr)\n",
    "    \n",
    "    prediction = model.predict(X_te)\n",
    "    \n",
    "    row = {'explained_variance_score': explained_variance_score(y_te, prediction), \n",
    "           'max_error': max_error(y_te, prediction), \n",
    "           'mean_absolute_error': mean_absolute_error(y_te, prediction), \n",
    "           'r2_score': r2_score(y_te, prediction)}\n",
    "    \n",
    "    results_dict[split] = row\n",
    "    \n",
    "    split += 1"
   ]
  },
  {
   "cell_type": "code",
   "execution_count": 53,
   "id": "45fe6d43",
   "metadata": {},
   "outputs": [
    {
     "data": {
      "text/plain": [
       "{1: {'explained_variance_score': 0.9012811098501311,\n",
       "  'max_error': 110857.0625,\n",
       "  'mean_absolute_error': 15729.072586686643,\n",
       "  'r2_score': 0.9012306409795778},\n",
       " 2: {'explained_variance_score': 0.8660023251933515,\n",
       "  'max_error': 298885.96875,\n",
       "  'mean_absolute_error': 16800.25975224743,\n",
       "  'r2_score': 0.8652967902431217},\n",
       " 3: {'explained_variance_score': 0.895399444814744,\n",
       "  'max_error': 161179.9375,\n",
       "  'mean_absolute_error': 17095.90063142123,\n",
       "  'r2_score': 0.8938226850996438},\n",
       " 4: {'explained_variance_score': 0.9003266090192033,\n",
       "  'max_error': 121836.5,\n",
       "  'mean_absolute_error': 15643.327630029966,\n",
       "  'r2_score': 0.899104398269532},\n",
       " 5: {'explained_variance_score': 0.8714887015881428,\n",
       "  'max_error': 220622.375,\n",
       "  'mean_absolute_error': 17645.261289196736,\n",
       "  'r2_score': 0.8713074530621358}}"
      ]
     },
     "execution_count": 53,
     "metadata": {},
     "output_type": "execute_result"
    }
   ],
   "source": [
    "results_dict"
   ]
  },
  {
   "cell_type": "code",
   "execution_count": 54,
   "id": "f288abee",
   "metadata": {},
   "outputs": [],
   "source": [
    "results_df = pd.DataFrame(data=results_dict)"
   ]
  },
  {
   "cell_type": "code",
   "execution_count": 55,
   "id": "99b207d0",
   "metadata": {},
   "outputs": [
    {
     "data": {
      "text/html": [
       "<div>\n",
       "<style scoped>\n",
       "    .dataframe tbody tr th:only-of-type {\n",
       "        vertical-align: middle;\n",
       "    }\n",
       "\n",
       "    .dataframe tbody tr th {\n",
       "        vertical-align: top;\n",
       "    }\n",
       "\n",
       "    .dataframe thead th {\n",
       "        text-align: right;\n",
       "    }\n",
       "</style>\n",
       "<table border=\"1\" class=\"dataframe\">\n",
       "  <thead>\n",
       "    <tr style=\"text-align: right;\">\n",
       "      <th></th>\n",
       "      <th>1</th>\n",
       "      <th>2</th>\n",
       "      <th>3</th>\n",
       "      <th>4</th>\n",
       "      <th>5</th>\n",
       "    </tr>\n",
       "  </thead>\n",
       "  <tbody>\n",
       "    <tr>\n",
       "      <th>explained_variance_score</th>\n",
       "      <td>0.901281</td>\n",
       "      <td>0.866002</td>\n",
       "      <td>0.895399</td>\n",
       "      <td>0.900327</td>\n",
       "      <td>0.871489</td>\n",
       "    </tr>\n",
       "    <tr>\n",
       "      <th>max_error</th>\n",
       "      <td>110857.062500</td>\n",
       "      <td>298885.968750</td>\n",
       "      <td>161179.937500</td>\n",
       "      <td>121836.500000</td>\n",
       "      <td>220622.375000</td>\n",
       "    </tr>\n",
       "    <tr>\n",
       "      <th>mean_absolute_error</th>\n",
       "      <td>15729.072587</td>\n",
       "      <td>16800.259752</td>\n",
       "      <td>17095.900631</td>\n",
       "      <td>15643.327630</td>\n",
       "      <td>17645.261289</td>\n",
       "    </tr>\n",
       "    <tr>\n",
       "      <th>r2_score</th>\n",
       "      <td>0.901231</td>\n",
       "      <td>0.865297</td>\n",
       "      <td>0.893823</td>\n",
       "      <td>0.899104</td>\n",
       "      <td>0.871307</td>\n",
       "    </tr>\n",
       "  </tbody>\n",
       "</table>\n",
       "</div>"
      ],
      "text/plain": [
       "                                      1              2              3  \\\n",
       "explained_variance_score       0.901281       0.866002       0.895399   \n",
       "max_error                 110857.062500  298885.968750  161179.937500   \n",
       "mean_absolute_error        15729.072587   16800.259752   17095.900631   \n",
       "r2_score                       0.901231       0.865297       0.893823   \n",
       "\n",
       "                                      4              5  \n",
       "explained_variance_score       0.900327       0.871489  \n",
       "max_error                 121836.500000  220622.375000  \n",
       "mean_absolute_error        15643.327630   17645.261289  \n",
       "r2_score                       0.899104       0.871307  "
      ]
     },
     "execution_count": 55,
     "metadata": {},
     "output_type": "execute_result"
    }
   ],
   "source": [
    "results_df"
   ]
  },
  {
   "cell_type": "code",
   "execution_count": 62,
   "id": "e03a7405",
   "metadata": {},
   "outputs": [
    {
     "data": {
      "text/plain": [
       "explained_variance_score         0.886900\n",
       "max_error                   182676.368750\n",
       "mean_absolute_error          16582.764378\n",
       "r2_score                         0.886152\n",
       "dtype: float64"
      ]
     },
     "execution_count": 62,
     "metadata": {},
     "output_type": "execute_result"
    }
   ],
   "source": [
    "results_df.mean(axis=1)"
   ]
  },
  {
   "cell_type": "code",
   "execution_count": 65,
   "id": "0fddbc19",
   "metadata": {},
   "outputs": [],
   "source": [
    "# Will take last cross validation for evaluation graphs\n",
    "\n"
   ]
  }
 ],
 "metadata": {
  "kernelspec": {
   "display_name": "Python 3 (ipykernel)",
   "language": "python",
   "name": "python3"
  },
  "language_info": {
   "codemirror_mode": {
    "name": "ipython",
    "version": 3
   },
   "file_extension": ".py",
   "mimetype": "text/x-python",
   "name": "python",
   "nbconvert_exporter": "python",
   "pygments_lexer": "ipython3",
   "version": "3.9.7"
  }
 },
 "nbformat": 4,
 "nbformat_minor": 5
}
